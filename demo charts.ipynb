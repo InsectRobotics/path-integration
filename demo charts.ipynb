{
 "cells": [
  {
   "cell_type": "code",
   "execution_count": 412,
   "metadata": {},
   "outputs": [
    {
     "name": "stdout",
     "output_type": "stream",
     "text": [
      "The autoreload extension is already loaded. To reload it, use:\n",
      "  %reload_ext autoreload\n"
     ]
    }
   ],
   "source": [
    "%matplotlib inline\n",
    "%load_ext autoreload\n",
    "%autoreload 2\n",
    "    \n",
    "import numpy as np\n",
    "import scipy as sp\n",
    "import matplotlib.pyplot as plt\n",
    "import matplotlib.patches as patches\n",
    "from scipy.signal import lfilter\n",
    "\n",
    "import central_complex\n",
    "import cx_basic\n",
    "import cx_rate\n",
    "import trials\n",
    "import analysis\n",
    "import plotter"
   ]
  },
  {
   "cell_type": "markdown",
   "metadata": {},
   "source": [
    "generate a route"
   ]
  },
  {
   "cell_type": "code",
   "execution_count": 413,
   "metadata": {},
   "outputs": [],
   "source": [
    "route_file = 'route.npz'\n",
    "T_outbound = 1500\n",
    "T_inbound = 1500\n",
    "\n",
    "cx = cx_rate.CXRatePontin(noise=0.1)\n",
    "\n",
    "#h, v, _ = trials.load_route(filename=route_file)\n",
    "h, v = trials.generate_route(T=T_outbound)\n",
    "h, v, log, cpu4_snapshot = trials.run_trial(logging=True,\n",
    "                                            T_outbound=T_outbound,\n",
    "                                            T_inbound=T_inbound,\n",
    "                                            noise=0.1,\n",
    "                                            cx=cx,\n",
    "                                            route=(h[:T_outbound], v[:T_outbound]))"
   ]
  },
  {
   "cell_type": "markdown",
   "metadata": {},
   "source": [
    "Find timestep with biggest motor value soon after turning point"
   ]
  },
  {
   "cell_type": "code",
   "execution_count": null,
   "metadata": {},
   "outputs": [
    {
     "data": {
      "text/plain": [
       "1502"
      ]
     },
     "execution_count": 414,
     "metadata": {},
     "output_type": "execute_result"
    },
    {
     "data": {
      "image/png": "[encoded data removed]",
      "text/plain": [
       "<matplotlib.figure.Figure at 0x10ea4d890>"
      ]
     },
     "metadata": {},
     "output_type": "display_data"
    }
   ],
   "source": [
    "plt.plot(log.motor[1500:1510].T)\n",
    "idx = 1500 + np.argmax(log.motor[1500:1510])\n",
    "idx"
   ]
  },
  {
   "cell_type": "markdown",
   "metadata": {},
   "source": [
    "create crude bar charts from snapshot of cell values"
   ]
  },
  {
   "cell_type": "code",
   "execution_count": null,
   "metadata": {},
   "outputs": [],
   "source": [
    "fig, ax = plt.subplots(4,2, figsize =(12,12))\n",
    "\n",
    "ax[0][0].bar(np.arange(1, 9), log.tb1[:,idx], color='green')\n",
    "\n",
    "ax[1][0].bar(np.arange(1, 9), log.cpu4[:8,idx], color='orange')\n",
    "ax[1][1].bar(np.arange(9, 17), log.cpu4[8:,idx], color='yellow')\n",
    "\n",
    "ax[2][0].bar(np.arange(1, 9), log.cpu1[:8,idx], color='cyan')\n",
    "ax[2][1].bar(np.arange(9, 17), log.cpu1[8:,idx], color='blue')\n",
    "\n",
    "barlist=ax[3][0].bar([1,2], [np.sum(log.cpu1[:8,idx]), np.sum(log.cpu1[8:,idx])])\n",
    "barlist[0].set_color('cyan')"
   ]
  },
  {
   "cell_type": "markdown",
   "metadata": {},
   "source": [
    "Print values"
   ]
  },
  {
   "cell_type": "code",
   "execution_count": null,
   "metadata": {},
   "outputs": [],
   "source": [
    "print log.tb1[:,idx]\n",
    "print log.cpu4[:8,idx]\n",
    "print log.cpu4[8:,idx]\n",
    "print log.cpu1[:8,idx]\n",
    "print log.cpu1[8:,idx]"
   ]
  },
  {
   "cell_type": "code",
   "execution_count": null,
   "metadata": {
    "collapsed": true
   },
   "outputs": [],
   "source": []
  },
  {
   "cell_type": "code",
   "execution_count": null,
   "metadata": {
    "collapsed": true
   },
   "outputs": [],
   "source": []
  }
 ],
 "metadata": {
  "kernelspec": {
   "display_name": "Python 2",
   "language": "python",
   "name": "python2"
  },
  "language_info": {
   "codemirror_mode": {
    "name": "ipython",
    "version": 2
   },
   "file_extension": ".py",
   "mimetype": "text/x-python",
   "name": "python",
   "nbconvert_exporter": "python",
   "pygments_lexer": "ipython2",
   "version": "2.7.10"
  }
 },
 "nbformat": 4,
 "nbformat_minor": 2
}
