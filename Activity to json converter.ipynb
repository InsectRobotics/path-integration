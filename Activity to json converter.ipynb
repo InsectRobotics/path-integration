{
 "cells": [
  {
   "cell_type": "markdown",
   "metadata": {},
   "source": [
    "A notebook to convert npz to json for the javascript animation"
   ]
  },
  {
   "cell_type": "code",
   "execution_count": 1,
   "metadata": {},
   "outputs": [
    {
     "name": "stderr",
     "output_type": "stream",
     "text": [
      "/usr/local/lib/python2.7/site-packages/matplotlib/font_manager.py:273: UserWarning: Matplotlib is building the font cache using fc-list. This may take a moment.\n",
      "  warnings.warn('Matplotlib is building the font cache using fc-list. This may take a moment.')\n"
     ]
    }
   ],
   "source": [
    "%matplotlib inline\n",
    "%load_ext autoreload\n",
    "%autoreload 2\n",
    "    \n",
    "import numpy as np\n",
    "import matplotlib.pyplot as plt\n",
    "\n",
    "import cx_rate\n",
    "import trials\n",
    "import plotter\n",
    "\n",
    "import json"
   ]
  },
  {
   "cell_type": "code",
   "execution_count": 2,
   "metadata": {},
   "outputs": [
    {
     "data": {
      "image/png": "[encoded data removed]",
      "text/plain": [
       "<matplotlib.figure.Figure at 0x10e2c6fd0>"
      ]
     },
     "metadata": {},
     "output_type": "display_data"
    }
   ],
   "source": [
    "route_file = 'route.npz'\n",
    "T_outbound = 1500\n",
    "T_inbound = 1500\n",
    "\n",
    "cx = cx_rate.CXRatePontin(noise=0.1)\n",
    "\n",
    "h, v, _ = trials.load_route(filename=route_file)\n",
    "h, v, log, cpu4_snapshot = trials.run_trial(logging=True,\n",
    "                                            T_outbound=T_outbound,\n",
    "                                            T_inbound=T_inbound,\n",
    "                                            noise=0.1,\n",
    "                                            cx=cx,\n",
    "                                            route=(h[:T_outbound], v[:T_outbound]))\n",
    "\n",
    "fig, ax = plotter.plot_route(h, v, T_outbound=T_outbound, T_inbound=T_inbound,\n",
    "                   plot_speed=True, plot_heading=True, quiver_color='black')"
   ]
  },
  {
   "cell_type": "code",
   "execution_count": 3,
   "metadata": {
    "collapsed": true
   },
   "outputs": [],
   "source": [
    "def save_to_json(h, v, log, filename):\n",
    "    data = {}\n",
    "    \n",
    "    data['cl1'] = [np.around(cl1, 2).tolist() for cl1 in log.cl1.T]\n",
    "    data['cpu1'] = [np.around(cpu1, 2).tolist() for cpu1 in log.cpu1.T]\n",
    "    data['cpu4'] = [np.around(cpu4, 2).tolist() for cpu4 in log.cpu4.T]\n",
    "    data['h'] = [np.around(val, 2).tolist() for val in h]\n",
    "    data['motor'] = [np.around(np.array([np.average(cpu1[8:]), np.average(cpu1[:8])]),2).tolist() for cpu1 in log.cpu1.T]\n",
    "    data['tb1'] = [np.around(tb1, 2).tolist() for tb1 in log.tb1.T]\n",
    "    data['tn2'] = [np.around(tn2, 2).tolist() for tn2 in log.tn2.T]\n",
    "    \n",
    "    xy = np.cumsum(v, axis=0)\n",
    "    data['x'] = np.around(xy[:-1, 0], 2).tolist()\n",
    "    data['y'] = np.around(xy[:-1, 1], 2).tolist()\n",
    "    \n",
    "    with open(filename, 'w') as outfile:\n",
    "        json.dump(data, outfile, indent=2)"
   ]
  },
  {
   "cell_type": "code",
   "execution_count": 4,
   "metadata": {
    "collapsed": true
   },
   "outputs": [],
   "source": [
    "save_to_json(h, v, log, 'path.json')"
   ]
  }
 ],
 "metadata": {
  "kernelspec": {
   "display_name": "Python 2",
   "language": "python",
   "name": "python2"
  },
  "language_info": {
   "codemirror_mode": {
    "name": "ipython",
    "version": 2
   },
   "file_extension": ".py",
   "mimetype": "text/x-python",
   "name": "python",
   "nbconvert_exporter": "python",
   "pygments_lexer": "ipython2",
   "version": "2.7.10"
  }
 },
 "nbformat": 4,
 "nbformat_minor": 2
}
